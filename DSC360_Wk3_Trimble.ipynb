{
 "cells": [
  {
   "metadata": {},
   "cell_type": "markdown",
   "source": [
    "Title: DSC360 Week 3 Exercise  \n",
    "Author: Caleb Trimble  \n",
    "Date: 14 September 2024  \n",
    "Description: This program functions to install PDFs, read PDFs with varying elements, and transcribe images utilizing pytesseract.  \n",
    "Codes and functions were adapted from Using Tesseract OCR with Python (Rosebrock A., 2017) https://pyimagesearch.com/2017/07/10/using-tesseract-ocr-python/"
   ],
   "id": "ebda748af4f4e4ff"
  },
  {
   "cell_type": "code",
   "id": "initial_id",
   "metadata": {
    "collapsed": true,
    "ExecuteTime": {
     "end_time": "2024-09-14T22:36:51.060555Z",
     "start_time": "2024-09-14T22:36:50.651455Z"
    }
   },
   "source": [
    "# Problem 1\n",
    "from pypdf import PdfReader\n",
    "reader = PdfReader(\"D:\\\\MediaDocs_Caleb\\\\Documents\\\\School\\\\DSC360\\\\Week 3\\\\Week_3_No_Tables.pdf\")\n",
    "print(len(reader.pages))\n",
    "page =reader.pages[0]\n",
    "print(page.extract_text())\n",
    "print()\n"
   ],
   "outputs": [
    {
     "name": "stdout",
     "output_type": "stream",
     "text": [
      "1\n",
      "Exercises  \n",
      "1. Create a simple PDF file without tables (you can use Microsoft Word to create a document and \n",
      "save it as a PDF file) and read the text using Python. Print the results.  \n",
      "2. Create a simple PDF file with tables (you can use Microsoft Word to create a docum ent and save \n",
      "it as a PDF file) and read the text using Python. Print the results.  \n",
      "3. Go through the Microsoft tutorial to create a form processing model using the Microsoft invoice \n",
      "samples. Do a “quick test” using the test invoice. Then, after reading abou t how you can \n",
      "incorporate your model in Power Automate, create a simple Power Automate flow that reads \n",
      "that test invoice and shows the data fields within it. (There may be a tutorial available from \n",
      "Microsoft that shows you how to do this.)  \n",
      "4. Assuming you  installed Tesseract, use pytesseract to read the Bowers text image found in the \n",
      "GitHub for Week 3 (week_3 \\data \\bowers.jpg). Then use spaCy to print out the tokens (the text, \n",
      "part of speech, and dependency).  \n",
      "For the Python assignments, you can submit Jup yter Notebooks or PDFs of your code (one for each \n",
      "exercise). If you submit .py files you need to also include a PDF or attachment of your results.  \n",
      "For the Power Automate assignment, share your completed flow with me (fneugebauer@bellevue.edu).  \n",
      "Don’t for get to work on your project – Milestone 2 is due next week.  \n",
      "\n"
     ]
    }
   ],
   "execution_count": 14
  },
  {
   "metadata": {},
   "cell_type": "markdown",
   "source": [
    "Problems 1 and 2 create simple functions that ingest a pdf using the PdfReader module from pypdf and a filepath.\n",
    "It then prints the results of the ingest."
   ],
   "id": "8bb1dbc0706e26b2"
  },
  {
   "metadata": {
    "ExecuteTime": {
     "end_time": "2024-09-14T22:36:51.081316Z",
     "start_time": "2024-09-14T22:36:51.061554Z"
    }
   },
   "cell_type": "code",
   "source": [
    "from pypdf import PdfReader\n",
    "# Part 1\n",
    "reader = PdfReader(\"D:\\\\MediaDocs_Caleb\\\\Documents\\\\School\\\\DSC360\\\\Week 3\\\\DSC360_Wk3_NoTable.pdf\")\n",
    "print(len(reader.pages))\n",
    "page =reader.pages[0]\n",
    "print(page.extract_text())\n",
    "print()\n",
    "# Part 2\n",
    "reader = PdfReader(\"D:\\\\MediaDocs_Caleb\\\\Documents\\\\School\\\\DSC360\\\\Week 3\\\\DSC360_Wk3_WithTable.pdf\")\n",
    "print(len(reader.pages))\n",
    "page =reader.pages[0]\n",
    "print(page.extract_text())\n",
    "print()"
   ],
   "id": "7977bdfc78a15073",
   "outputs": [
    {
     "name": "stdout",
     "output_type": "stream",
     "text": [
      "1\n",
      "DSC360 Week 3 Exercise  \n",
      "Part 1  \n",
      "Create a simple PDF file without tables (you can use Microsoft Word to create a document \n",
      "and save it as a PDF file) and read the text using Python. Print the results.  \n",
      "This is a simple PDF file without tables.   \n",
      "\n",
      "1\n",
      "DSC360 Week 3 Exercise  \n",
      "Part 2 \n",
      "Create a simple PDF file with tables (you can use Microsoft Word to create a document and \n",
      "save it as a PDF file) and read the text using Python. Print the results.  \n",
      "This is a simple PDF file with  a table.  \n",
      " \n",
      "Fall 2023  Winter 2023  Spring 2024  Summer \n",
      "2024  Fall 2024  Winter 2024  \n",
      "CIS111  CA107  DSC300  CIS245  DSC350  DSC355  \n",
      "DSC101  DSC200  DSC310  DSC320  DSC360  DSC400  \n",
      "MA100  HU101  MA215     \n",
      " \n",
      "\n"
     ]
    }
   ],
   "execution_count": 15
  },
  {
   "metadata": {
    "ExecuteTime": {
     "end_time": "2024-09-14T22:36:51.099242Z",
     "start_time": "2024-09-14T22:36:51.081316Z"
    }
   },
   "cell_type": "code",
   "source": [
    "# Problem 2\n",
    "reader = PdfReader(\"D:\\\\MediaDocs_Caleb\\\\Documents\\\\School\\\\DSC360\\\\Week 3\\\\Week_3_With_Tables.pdf\")\n",
    "print(len(reader.pages))\n",
    "page =reader.pages[0]\n",
    "print(page.extract_text())\n"
   ],
   "id": "c240a26079c97927",
   "outputs": [
    {
     "name": "stdout",
     "output_type": "stream",
     "text": [
      "1\n",
      "X1 X2 X3 X4 \n",
      "14.36055  Jun -11.0728  asia \n",
      "0.328324  July 4.601376  asia \n",
      "3.824882  Aug 17.35175  asia \n",
      "-6.20102  Aug 6.084073  asia \n",
      " \n"
     ]
    }
   ],
   "execution_count": 16
  },
  {
   "metadata": {},
   "cell_type": "markdown",
   "source": [
    "Line 7 - Define the filepath that pytesseract pulls from.  \n",
    "Line 12-13 - Load and convert the image to grayscale using the module cv2.  \n",
    "Line 14 - Define the thresholding for grayscale. 0 = threshold value, 255 = pixels above threshold (maximum value for threshold_binary), cv2.THRESH_BINARY = type of thresholding as binary, cv2.THRESH_OTSU = tells OpenCV to determine threshold value (minimizes pixel variance)  \n",
    "Line 15 - Creates unique filename  \n",
    "Line 16 - Uses temporary file created  \n",
    "Line 17 - Opens dynamically generated filename using PIL library, processes image and extracts text.  \n",
    "Line 18 - Deletes the temporary file."
   ],
   "id": "8bc0007de967cab4"
  },
  {
   "metadata": {
    "ExecuteTime": {
     "end_time": "2024-09-14T22:37:45.598378Z",
     "start_time": "2024-09-14T22:37:44.777670Z"
    }
   },
   "cell_type": "code",
   "source": [
    "# Problem 4\n",
    "from PIL import Image\n",
    "import pytesseract\n",
    "import cv2\n",
    "import os\n",
    "\n",
    "pytesseract.pytesseract.tesseract_cmd = r'C:\\Program Files\\Tesseract-OCR\\tesseract.exe'\n",
    "\n",
    "\n",
    "image_path = \"D:\\\\MediaDocs_Caleb\\\\Documents\\\\School\\\\DSC360\\\\Week 3\\\\bowers.jpg\"\n",
    "preprocess = \"thresh\"  \n",
    "image = cv2.imread(image_path)\n",
    "gray = cv2.cvtColor(image, cv2.COLOR_BGR2GRAY)\n",
    "gray = cv2.threshold(gray, 0, 255, cv2.THRESH_BINARY | cv2.THRESH_OTSU)[1]\n",
    "filename = \"{}.png\".format(os.getpid())\n",
    "cv2.imwrite(filename, gray)\n",
    "text = pytesseract.image_to_string(Image.open(filename))\n",
    "os.remove(filename)\n",
    "print(text)\n",
    "print()"
   ],
   "id": "97c31a34bd81c3d9",
   "outputs": [
    {
     "name": "stdout",
     "output_type": "stream",
     "text": [
      "The Life and Work of\n",
      "Fredson Bowers\n",
      "\n",
      "by\n",
      "G. THOMAS TANSELLE\n",
      "\n",
      "N EVERY FIELD OF ENDEAVOR THERE ARI A FEW PIGURES WHOSE ACCOM\n",
      "plishment and influence cause them to be the symbols of zheir age;\n",
      "their careers and oeuvres become the touchstones by which the\n",
      "field is measured and its history told. In the related pursuits of\n",
      "\n",
      "analytical and descriptive bibliography, textual criticism, and scholarly\n",
      "editing, Fredson Bowers was such a figure, dominating the four decades\n",
      "after 1949, when his Principles of Bibliographical Description was pub-\n",
      "lished. By 1973 the period was already being called “the age of Bowers”:\n",
      "in that year Norman Sanders, writing the chapter on textual scholarship\n",
      "for Stanley Wells's Shakespeare: Select Bibliographies, gave this title t0\n",
      "asection of his essay. For most people, it would be achievement enough\n",
      "to rise to such a position in a field as complex as Shakespearean textual\n",
      "studies; but Bowers played an equally important role in other areas.\n",
      "Editors of nineteenth-century American anthors. for example, would\n",
      "also have to call the recent past “the age of Bowers,” as would the writers\n",
      "of descriptive bibliographies of authors and presses. His ubiquity in\n",
      "the broad field of bibliographical and textual study, his seemingly com-\n",
      "plete possession of it, distinguished him from his illustrious predeces-\n",
      "sors and made him the personification of bibliographical scholarship in\n",
      "his time.\n",
      "\n",
      "When in 1969 Bowers was awarded the Gold Medal of the Biblio-\n",
      "graphical Society in London, John Carter's citation referred to the\n",
      "Principles as “majestic,” called Bowers's current projects “formidable,”\n",
      "said that he had “imposed critical discipline” on the texts of several\n",
      "authors, described Studies in Bibliography as a “great and continuing\n",
      "achievement,” and included among his characteristics “uncompromising\n",
      "seriousness of purpose” and “professional intensity.” Bowers was not\n",
      "unaccustomed to such encomia, but he had also experienced his share of\n",
      "attacks: his scholarly positions were not universally popular, and he\n",
      "expressed them with an aggressiveness that almost seemed calculated to\n",
      "\n",
      "\n",
      "\n"
     ]
    }
   ],
   "execution_count": 20
  },
  {
   "metadata": {},
   "cell_type": "markdown",
   "source": [
    "Line 3 - loads the language model en_core_web_sm for text analytics.\n",
    "Line 8 and 9 - Looks for the token in the document and prints the results."
   ],
   "id": "d4778aa7348abd3f"
  },
  {
   "metadata": {
    "ExecuteTime": {
     "end_time": "2024-09-14T22:53:23.924439Z",
     "start_time": "2024-09-14T22:53:23.775415Z"
    }
   },
   "cell_type": "code",
   "source": [
    "import numpy as np\n",
    "import spacy\n",
    "nlp = spacy.load(\"en_core_web_sm\")\n",
    "image_path = \"D:\\\\MediaDocs_Caleb\\\\Documents\\\\School\\\\DSC360\\\\Week 3\\\\bowers.jpg\"\n",
    "image = Image.open(image_path)\n",
    "text = pytesseract.image_to_string(Image.open(filename))\n",
    "doc = nlp(text)\n",
    "for token in doc:\n",
    "    print(token.text)"
   ],
   "id": "b32bdbfd1904869d",
   "outputs": [
    {
     "ename": "ValueError",
     "evalue": "numpy.dtype size changed, may indicate binary incompatibility. Expected 96 from C header, got 88 from PyObject",
     "output_type": "error",
     "traceback": [
      "\u001B[1;31m---------------------------------------------------------------------------\u001B[0m",
      "\u001B[1;31mValueError\u001B[0m                                Traceback (most recent call last)",
      "Cell \u001B[1;32mIn[28], line 2\u001B[0m\n\u001B[0;32m      1\u001B[0m \u001B[38;5;28;01mimport\u001B[39;00m \u001B[38;5;21;01mnumpy\u001B[39;00m \u001B[38;5;28;01mas\u001B[39;00m \u001B[38;5;21;01mnp\u001B[39;00m\n\u001B[1;32m----> 2\u001B[0m \u001B[38;5;28;01mimport\u001B[39;00m \u001B[38;5;21;01mspacy\u001B[39;00m\n\u001B[0;32m      3\u001B[0m nlp \u001B[38;5;241m=\u001B[39m spacy\u001B[38;5;241m.\u001B[39mload(\u001B[38;5;124m\"\u001B[39m\u001B[38;5;124men_core_web_sm\u001B[39m\u001B[38;5;124m\"\u001B[39m)\n\u001B[0;32m      4\u001B[0m image_path \u001B[38;5;241m=\u001B[39m \u001B[38;5;124m\"\u001B[39m\u001B[38;5;124mD:\u001B[39m\u001B[38;5;130;01m\\\\\u001B[39;00m\u001B[38;5;124mMediaDocs_Caleb\u001B[39m\u001B[38;5;130;01m\\\\\u001B[39;00m\u001B[38;5;124mDocuments\u001B[39m\u001B[38;5;130;01m\\\\\u001B[39;00m\u001B[38;5;124mSchool\u001B[39m\u001B[38;5;130;01m\\\\\u001B[39;00m\u001B[38;5;124mDSC360\u001B[39m\u001B[38;5;130;01m\\\\\u001B[39;00m\u001B[38;5;124mWeek 3\u001B[39m\u001B[38;5;130;01m\\\\\u001B[39;00m\u001B[38;5;124mbowers.jpg\u001B[39m\u001B[38;5;124m\"\u001B[39m\n",
      "File \u001B[1;32m~\\PycharmProjects\\pythonProject\\.venv\\Lib\\site-packages\\spacy\\__init__.py:6\u001B[0m\n\u001B[0;32m      3\u001B[0m \u001B[38;5;28;01mfrom\u001B[39;00m \u001B[38;5;21;01mtyping\u001B[39;00m \u001B[38;5;28;01mimport\u001B[39;00m Any, Dict, Iterable, Union\n\u001B[0;32m      5\u001B[0m \u001B[38;5;66;03m# set library-specific custom warning handling before doing anything else\u001B[39;00m\n\u001B[1;32m----> 6\u001B[0m \u001B[38;5;28;01mfrom\u001B[39;00m \u001B[38;5;21;01m.\u001B[39;00m\u001B[38;5;21;01merrors\u001B[39;00m \u001B[38;5;28;01mimport\u001B[39;00m setup_default_warnings\n\u001B[0;32m      8\u001B[0m setup_default_warnings()  \u001B[38;5;66;03m# noqa: E402\u001B[39;00m\n\u001B[0;32m     10\u001B[0m \u001B[38;5;66;03m# These are imported as part of the API\u001B[39;00m\n",
      "File \u001B[1;32m~\\PycharmProjects\\pythonProject\\.venv\\Lib\\site-packages\\spacy\\errors.py:3\u001B[0m\n\u001B[0;32m      1\u001B[0m \u001B[38;5;28;01mimport\u001B[39;00m \u001B[38;5;21;01mwarnings\u001B[39;00m\n\u001B[1;32m----> 3\u001B[0m \u001B[38;5;28;01mfrom\u001B[39;00m \u001B[38;5;21;01m.\u001B[39;00m\u001B[38;5;21;01mcompat\u001B[39;00m \u001B[38;5;28;01mimport\u001B[39;00m Literal\n\u001B[0;32m      6\u001B[0m \u001B[38;5;28;01mclass\u001B[39;00m \u001B[38;5;21;01mErrorsWithCodes\u001B[39;00m(\u001B[38;5;28mtype\u001B[39m):\n\u001B[0;32m      7\u001B[0m     \u001B[38;5;28;01mdef\u001B[39;00m \u001B[38;5;21m__getattribute__\u001B[39m(\u001B[38;5;28mself\u001B[39m, code):\n",
      "File \u001B[1;32m~\\PycharmProjects\\pythonProject\\.venv\\Lib\\site-packages\\spacy\\compat.py:39\u001B[0m\n\u001B[0;32m     36\u001B[0m \u001B[38;5;28;01mexcept\u001B[39;00m \u001B[38;5;167;01mImportError\u001B[39;00m:\n\u001B[0;32m     37\u001B[0m     \u001B[38;5;28;01mfrom\u001B[39;00m \u001B[38;5;21;01mcatalogue\u001B[39;00m \u001B[38;5;28;01mimport\u001B[39;00m _importlib_metadata \u001B[38;5;28;01mas\u001B[39;00m importlib_metadata  \u001B[38;5;66;03m# type: ignore[no-redef]    # noqa: F401\u001B[39;00m\n\u001B[1;32m---> 39\u001B[0m \u001B[38;5;28;01mfrom\u001B[39;00m \u001B[38;5;21;01mthinc\u001B[39;00m\u001B[38;5;21;01m.\u001B[39;00m\u001B[38;5;21;01mapi\u001B[39;00m \u001B[38;5;28;01mimport\u001B[39;00m Optimizer  \u001B[38;5;66;03m# noqa: F401\u001B[39;00m\n\u001B[0;32m     41\u001B[0m pickle \u001B[38;5;241m=\u001B[39m pickle\n\u001B[0;32m     42\u001B[0m copy_reg \u001B[38;5;241m=\u001B[39m copy_reg\n",
      "File \u001B[1;32m~\\PycharmProjects\\pythonProject\\.venv\\Lib\\site-packages\\thinc\\api.py:1\u001B[0m\n\u001B[1;32m----> 1\u001B[0m \u001B[38;5;28;01mfrom\u001B[39;00m \u001B[38;5;21;01m.\u001B[39;00m\u001B[38;5;21;01mbackends\u001B[39;00m \u001B[38;5;28;01mimport\u001B[39;00m (\n\u001B[0;32m      2\u001B[0m     CupyOps,\n\u001B[0;32m      3\u001B[0m     MPSOps,\n\u001B[0;32m      4\u001B[0m     NumpyOps,\n\u001B[0;32m      5\u001B[0m     Ops,\n\u001B[0;32m      6\u001B[0m     get_current_ops,\n\u001B[0;32m      7\u001B[0m     get_ops,\n\u001B[0;32m      8\u001B[0m     set_current_ops,\n\u001B[0;32m      9\u001B[0m     set_gpu_allocator,\n\u001B[0;32m     10\u001B[0m     use_ops,\n\u001B[0;32m     11\u001B[0m     use_pytorch_for_gpu_memory,\n\u001B[0;32m     12\u001B[0m     use_tensorflow_for_gpu_memory,\n\u001B[0;32m     13\u001B[0m )\n\u001B[0;32m     14\u001B[0m \u001B[38;5;28;01mfrom\u001B[39;00m \u001B[38;5;21;01m.\u001B[39;00m\u001B[38;5;21;01mcompat\u001B[39;00m \u001B[38;5;28;01mimport\u001B[39;00m enable_mxnet, enable_tensorflow, has_cupy\n\u001B[0;32m     15\u001B[0m \u001B[38;5;28;01mfrom\u001B[39;00m \u001B[38;5;21;01m.\u001B[39;00m\u001B[38;5;21;01mconfig\u001B[39;00m \u001B[38;5;28;01mimport\u001B[39;00m Config, ConfigValidationError, registry\n",
      "File \u001B[1;32m~\\PycharmProjects\\pythonProject\\.venv\\Lib\\site-packages\\thinc\\backends\\__init__.py:17\u001B[0m\n\u001B[0;32m     15\u001B[0m \u001B[38;5;28;01mfrom\u001B[39;00m \u001B[38;5;21;01m.\u001B[39;00m\u001B[38;5;21;01m_cupy_allocators\u001B[39;00m \u001B[38;5;28;01mimport\u001B[39;00m cupy_pytorch_allocator, cupy_tensorflow_allocator\n\u001B[0;32m     16\u001B[0m \u001B[38;5;28;01mfrom\u001B[39;00m \u001B[38;5;21;01m.\u001B[39;00m\u001B[38;5;21;01m_param_server\u001B[39;00m \u001B[38;5;28;01mimport\u001B[39;00m ParamServer\n\u001B[1;32m---> 17\u001B[0m \u001B[38;5;28;01mfrom\u001B[39;00m \u001B[38;5;21;01m.\u001B[39;00m\u001B[38;5;21;01mcupy_ops\u001B[39;00m \u001B[38;5;28;01mimport\u001B[39;00m CupyOps\n\u001B[0;32m     18\u001B[0m \u001B[38;5;28;01mfrom\u001B[39;00m \u001B[38;5;21;01m.\u001B[39;00m\u001B[38;5;21;01mmps_ops\u001B[39;00m \u001B[38;5;28;01mimport\u001B[39;00m MPSOps\n\u001B[0;32m     19\u001B[0m \u001B[38;5;28;01mfrom\u001B[39;00m \u001B[38;5;21;01m.\u001B[39;00m\u001B[38;5;21;01mnumpy_ops\u001B[39;00m \u001B[38;5;28;01mimport\u001B[39;00m NumpyOps\n",
      "File \u001B[1;32m~\\PycharmProjects\\pythonProject\\.venv\\Lib\\site-packages\\thinc\\backends\\cupy_ops.py:16\u001B[0m\n\u001B[0;32m      6\u001B[0m \u001B[38;5;28;01mfrom\u001B[39;00m \u001B[38;5;21;01m.\u001B[39;00m\u001B[38;5;21;01m.\u001B[39;00m\u001B[38;5;21;01mutil\u001B[39;00m \u001B[38;5;28;01mimport\u001B[39;00m (\n\u001B[0;32m      7\u001B[0m     is_cupy_array,\n\u001B[0;32m      8\u001B[0m     is_mxnet_gpu_array,\n\u001B[1;32m   (...)\u001B[0m\n\u001B[0;32m     13\u001B[0m     torch2xp,\n\u001B[0;32m     14\u001B[0m )\n\u001B[0;32m     15\u001B[0m \u001B[38;5;28;01mfrom\u001B[39;00m \u001B[38;5;21;01m.\u001B[39;00m \u001B[38;5;28;01mimport\u001B[39;00m _custom_kernels\n\u001B[1;32m---> 16\u001B[0m \u001B[38;5;28;01mfrom\u001B[39;00m \u001B[38;5;21;01m.\u001B[39;00m\u001B[38;5;21;01mnumpy_ops\u001B[39;00m \u001B[38;5;28;01mimport\u001B[39;00m NumpyOps\n\u001B[0;32m     17\u001B[0m \u001B[38;5;28;01mfrom\u001B[39;00m \u001B[38;5;21;01m.\u001B[39;00m\u001B[38;5;21;01mops\u001B[39;00m \u001B[38;5;28;01mimport\u001B[39;00m Ops\n\u001B[0;32m     20\u001B[0m \u001B[38;5;129m@registry\u001B[39m\u001B[38;5;241m.\u001B[39mops(\u001B[38;5;124m\"\u001B[39m\u001B[38;5;124mCupyOps\u001B[39m\u001B[38;5;124m\"\u001B[39m)\n\u001B[0;32m     21\u001B[0m \u001B[38;5;28;01mclass\u001B[39;00m \u001B[38;5;21;01mCupyOps\u001B[39;00m(Ops):\n",
      "File \u001B[1;32m~\\PycharmProjects\\pythonProject\\.venv\\Lib\\site-packages\\thinc\\backends\\numpy_ops.pyx:1\u001B[0m, in \u001B[0;36minit thinc.backends.numpy_ops\u001B[1;34m()\u001B[0m\n",
      "\u001B[1;31mValueError\u001B[0m: numpy.dtype size changed, may indicate binary incompatibility. Expected 96 from C header, got 88 from PyObject"
     ]
    }
   ],
   "execution_count": 28
  },
  {
   "metadata": {},
   "cell_type": "markdown",
   "source": [
    "Note: Regardless of what I attempted, I continued to receive an error when completing this portion of the task. The code should be flawless, however there seems to be a dependency issue with numpy that causes the program to not return the results. \n",
    "Troubleshooting consisted of uninstalling and reinstalling related packages, verifying compatibility between versions, and downgrading numpy to 1.26.0 (there is a disconnect between pandas and numpy after 2.0.0). None of the troubleshooting attempts corrected the issue."
   ],
   "id": "6ea09c493d064572"
  }
 ],
 "metadata": {
  "kernelspec": {
   "display_name": "Python 3",
   "language": "python",
   "name": "python3"
  },
  "language_info": {
   "codemirror_mode": {
    "name": "ipython",
    "version": 2
   },
   "file_extension": ".py",
   "mimetype": "text/x-python",
   "name": "python",
   "nbconvert_exporter": "python",
   "pygments_lexer": "ipython2",
   "version": "2.7.6"
  }
 },
 "nbformat": 4,
 "nbformat_minor": 5
}
